{
 "cells": [
  {
   "cell_type": "code",
   "execution_count": 10,
   "id": "5bfe8e1a",
   "metadata": {},
   "outputs": [
    {
     "name": "stdout",
     "output_type": "stream",
     "text": [
      "17\n"
     ]
    }
   ],
   "source": [
    "#defining function fine_max\n",
    "def find_max(numbers):\n",
    "    if not numbers:\n",
    "        raise ValueError(\"The list is empty.\")\n",
    "#if not numbers, then it will send back the list is empty as an error message.\n",
    "    max_value = numbers[0]\n",
    "\n",
    "    for num in numbers[1:]:\n",
    "    #started my loop\n",
    "        if num > max_value:\n",
    "            max_value = num\n",
    "            #update max_value if a larger number is found\n",
    "    return max_value\n",
    "print(find_max([4, 9, 1, 17, 2]))\n",
    "\n"
   ]
  },
  {
   "cell_type": "code",
   "execution_count": 11,
   "id": "f7f0fd6f",
   "metadata": {},
   "outputs": [
    {
     "name": "stdout",
     "output_type": "stream",
     "text": [
      "-2\n"
     ]
    }
   ],
   "source": [
    "def find_max(numbers):\n",
    "    if not numbers:\n",
    "        raise ValueError(\"The list is empty.\")\n",
    "    max_value = numbers[0]\n",
    "\n",
    "    for num in numbers[1:]:\n",
    "         if num > max_value:\n",
    "            max_value = num\n",
    "    return max_value\n",
    "print(find_max([-5, -9, -2, -12]))\n"
   ]
  },
  {
   "cell_type": "code",
   "execution_count": 12,
   "id": "719315d3",
   "metadata": {},
   "outputs": [
    {
     "name": "stdout",
     "output_type": "stream",
     "text": [
      "42\n"
     ]
    }
   ],
   "source": [
    "def find_max(numbers):\n",
    "    if not numbers:\n",
    "        raise ValueError(\"The list is empty.\")\n",
    "    max_value = numbers[0]\n",
    "\n",
    "    for num in numbers[1:]:\n",
    "         if num > max_value:\n",
    "            max_value = num\n",
    "    return max_value\n",
    "print(find_max([42]))"
   ]
  }
 ],
 "metadata": {
  "kernelspec": {
   "display_name": "Python 3",
   "language": "python",
   "name": "python3"
  },
  "language_info": {
   "codemirror_mode": {
    "name": "ipython",
    "version": 3
   },
   "file_extension": ".py",
   "mimetype": "text/x-python",
   "name": "python",
   "nbconvert_exporter": "python",
   "pygments_lexer": "ipython3",
   "version": "3.13.5"
  }
 },
 "nbformat": 4,
 "nbformat_minor": 5
}
