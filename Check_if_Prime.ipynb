{
 "cells": [
  {
   "cell_type": "code",
   "execution_count": null,
   "id": "a8d27980",
   "metadata": {},
   "outputs": [
    {
     "name": "stdout",
     "output_type": "stream",
     "text": [
      "True True False False False\n"
     ]
    }
   ],
   "source": [
    "#define prime function\n",
    "def is_prime(n):\n",
    "    if n < 2: #creating the false check (numbers greater than 1 are immediately determined not to be prime\n",
    "        return False \n",
    "    for i in range(2, int(n**0.5)+1): #using i as a quick way to identify interger as a temporary variable \n",
    "        if n % i == 0:\n",
    "            return False\n",
    "    return True\n",
    "\n",
    "print(is_prime(2),\n",
    "is_prime(11),\n",
    "is_prime(15),\n",
    "is_prime(1),\n",
    "is_prime(0))\n",
    "\n",
    "    \n",
    "    "
   ]
  },
  {
   "cell_type": "code",
   "execution_count": 8,
   "id": "5befa7a3",
   "metadata": {},
   "outputs": [
    {
     "name": "stdout",
     "output_type": "stream",
     "text": [
      "False False False True True\n"
     ]
    }
   ],
   "source": [
    "#define prime function\n",
    "def is_prime(n):\n",
    "    if n < 2: #creating the false check (numbers greater than 1 are immediately determined not to be prime\n",
    "        return False \n",
    "    for i in range(2, int(n**0.5)+1): #using i as a quick way to identify interger as a temporary variable \n",
    "        if n % i == 0:\n",
    "            return False\n",
    "    return True\n",
    "\n",
    "print(is_prime(25),\n",
    "is_prime(81),\n",
    "is_prime(417),\n",
    "is_prime(7),\n",
    "is_prime(5))"
   ]
  },
  {
   "cell_type": "code",
   "execution_count": 12,
   "id": "f5825bba",
   "metadata": {},
   "outputs": [
    {
     "data": {
      "text/plain": [
       "[2, 3, 5, 7]"
      ]
     },
     "execution_count": 12,
     "metadata": {},
     "output_type": "execute_result"
    }
   ],
   "source": [
    "def is_prime(n):\n",
    "    if n < 2:\n",
    "        return False\n",
    "    for i in range(2, int(n**0.5) + 1):\n",
    "        if n % i == 0:\n",
    "            return False\n",
    "    return True\n",
    "\n",
    "def primes_up_to(limit):\n",
    "    #Return a list of all prime numbers up to a given limit.\n",
    "    prime_list = [] #empty list\n",
    "    for num in range(2, limit + 1): #looping through numbers\n",
    "        if is_prime(num): #checking if number is actually prime\n",
    "            prime_list.append(num) #if the number is prime, it adds it to the prime_list\n",
    "    return prime_list\n",
    "primes_up_to(10)\n",
    "\n"
   ]
  }
 ],
 "metadata": {
  "kernelspec": {
   "display_name": "Python 3",
   "language": "python",
   "name": "python3"
  },
  "language_info": {
   "codemirror_mode": {
    "name": "ipython",
    "version": 3
   },
   "file_extension": ".py",
   "mimetype": "text/x-python",
   "name": "python",
   "nbconvert_exporter": "python",
   "pygments_lexer": "ipython3",
   "version": "3.13.5"
  }
 },
 "nbformat": 4,
 "nbformat_minor": 5
}
