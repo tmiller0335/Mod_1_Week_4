{
 "cells": [
  {
   "cell_type": "code",
   "execution_count": null,
   "id": "1044c367",
   "metadata": {},
   "outputs": [
    {
     "name": "stdout",
     "output_type": "stream",
     "text": [
      "True\n",
      "True\n",
      "False\n"
     ]
    }
   ],
   "source": [
    "def is_palindrome(s):\n",
    "    # Normalize: lowercase, remove spaces and punctuation\n",
    "\n",
    "    normalized = s.lower().replace(\" \", \"\")\n",
    "    # Reverse the normalized string\n",
    "\n",
    "    reversed_str = normalized[::-1]\n",
    "    # Compare and return result\n",
    "\n",
    "    return normalized == reversed_str\n",
    "\n",
    "print(is_palindrome(\"Racecar\"))\n",
    "print(is_palindrome(\"A man a plan a canal Panama\"))\n",
    "print(is_palindrome(\"Hello world\"))"
   ]
  },
  {
   "cell_type": "code",
   "execution_count": 3,
   "id": "4ca6398c",
   "metadata": {},
   "outputs": [
    {
     "name": "stdout",
     "output_type": "stream",
     "text": [
      "Yes, 'Racecar' is a palindrome!\n",
      "Yes, 'A man, a plan, a canal: Panama' is a palindrome!\n",
      "Yes, '12321' is a palindrome!\n",
      "No, 'Hello, world!' is a palindrome.\n"
     ]
    }
   ],
   "source": [
    "import re\n",
    "\n",
    "def is_palindrome(value):\n",
    "    # Convert to string to handle numbers\n",
    "\n",
    "    original = str(value)\n",
    "    # Remove non-alphanumeric characters using regex\n",
    "\n",
    "    cleaned = re.sub(r'[^A-Za-z0-9]', '', original)\n",
    "    # Normalize for comparison (case-insensitive)\n",
    "\n",
    "    normalized = cleaned.lower()\n",
    "    # Check if it's a palindrome\n",
    "\n",
    "    if normalized == normalized[::-1]:\n",
    "        return f\"Yes, '{original}' is a palindrome!\"\n",
    "    else:\n",
    "        return f\"No, '{original}' is a palindrome.\"\n",
    "    \n",
    "print(is_palindrome(\"Racecar\"))              \n",
    "print(is_palindrome(\"A man, a plan, a canal: Panama\"))  \n",
    "print(is_palindrome(12321))                   \n",
    "print(is_palindrome(\"Hello, world!\"))    \n",
    "   \n"
   ]
  }
 ],
 "metadata": {
  "kernelspec": {
   "display_name": "Python 3",
   "language": "python",
   "name": "python3"
  },
  "language_info": {
   "codemirror_mode": {
    "name": "ipython",
    "version": 3
   },
   "file_extension": ".py",
   "mimetype": "text/x-python",
   "name": "python",
   "nbconvert_exporter": "python",
   "pygments_lexer": "ipython3",
   "version": "3.13.5"
  }
 },
 "nbformat": 4,
 "nbformat_minor": 5
}
