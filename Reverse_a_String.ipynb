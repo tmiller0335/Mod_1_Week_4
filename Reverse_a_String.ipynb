{
 "cells": [
  {
   "cell_type": "code",
   "execution_count": 4,
   "id": "f54db60f",
   "metadata": {},
   "outputs": [],
   "source": [
    "# Define a function to reverse a string\n",
    "def reverse_string(s):\n",
    "    return s[::-1]"
   ]
  },
  {
   "cell_type": "code",
   "execution_count": 5,
   "id": "f160fe47",
   "metadata": {},
   "outputs": [
    {
     "name": "stdout",
     "output_type": "stream",
     "text": [
      "rolyaT si eman ym olleH\n"
     ]
    }
   ],
   "source": [
    "# Return the reversed verison of the string\n",
    "print(reverse_string('Hello my name is Taylor'))\n"
   ]
  },
  {
   "cell_type": "code",
   "execution_count": 7,
   "id": "9fc3c76b",
   "metadata": {},
   "outputs": [
    {
     "name": "stdout",
     "output_type": "stream",
     "text": [
      "rolyaT si eman yM\n"
     ]
    }
   ],
   "source": [
    "#Reversing a Loop\n",
    "def reverse_string_loop(s):\n",
    "    reversed_str = \"\"\n",
    "    for char in s:\n",
    "        reversed_str = char + reversed_str\n",
    "    return reversed_str\n",
    "\n",
    "print(reverse_string_loop(\"My name is Taylor\"))"
   ]
  }
 ],
 "metadata": {
  "kernelspec": {
   "display_name": "Python 3",
   "language": "python",
   "name": "python3"
  },
  "language_info": {
   "codemirror_mode": {
    "name": "ipython",
    "version": 3
   },
   "file_extension": ".py",
   "mimetype": "text/x-python",
   "name": "python",
   "nbconvert_exporter": "python",
   "pygments_lexer": "ipython3",
   "version": "3.13.5"
  }
 },
 "nbformat": 4,
 "nbformat_minor": 5
}
