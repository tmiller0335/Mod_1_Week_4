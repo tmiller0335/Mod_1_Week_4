{
 "cells": [
  {
   "cell_type": "code",
   "execution_count": 3,
   "id": "b32d215f",
   "metadata": {},
   "outputs": [
    {
     "name": "stdout",
     "output_type": "stream",
     "text": [
      "def\n",
      "yza\n",
      "Mjqqt, Btwqi!\n"
     ]
    }
   ],
   "source": [
    "def caesar_cipher(text, shift):\n",
    "    encoded = \"\"\n",
    "    \n",
    "    for char in text:\n",
    "        if char.isalpha(): #determine base (A or a) depending on case \n",
    "            base = ord('A') if char.isupper() else ord('a') #shifting and wraping the characters around\n",
    "            shifted = (ord(char) - base + shift) % 26 + base \n",
    "            encoded += chr(shifted)\n",
    "        else: \n",
    "            #Keep non-letters characters unchanged\n",
    "            encoded += char\n",
    "    return encoded\n",
    "print(caesar_cipher('abc', 3))\n",
    "print(caesar_cipher('xyz', 1))\n",
    "print(caesar_cipher('Hello, World!', 5))"
   ]
  },
  {
   "cell_type": "code",
   "execution_count": 11,
   "id": "05e05fa6",
   "metadata": {},
   "outputs": [
    {
     "name": "stdout",
     "output_type": "stream",
     "text": [
      "Encoded: Mjqqt, Btwqi!\n",
      "Decoded: Hello, World!\n"
     ]
    }
   ],
   "source": [
    "def caesar_cipher(text, shift):\n",
    "    encoded = \"\"\n",
    "        \n",
    "    for char in text:\n",
    "        if char.isalpha(): #determine base (A or a) depending on case \n",
    "            base = ord('A') if char.isupper() else ord('a') #shifting and wraping the characters around\n",
    "            shifted = (ord(char) - base + shift) % 26 + base \n",
    "            encoded += chr(shifted)\n",
    "        else: \n",
    "            #Keep non-letters characters unchanged\n",
    "            encoded += char\n",
    "    return encoded\n",
    "def caesar_decipher(text, shift):\n",
    "    #Decode a Caesar cipher message by reversing the shift.\n",
    "    # # Just call the encoder with a negative shift\n",
    "    return caesar_cipher(text, -shift)\n",
    "message = \"Hello, World!\"\n",
    "shift_value = 5\n",
    "\n",
    "#printing the hidden message\n",
    "encoded_message = caesar_cipher(message, shift_value)\n",
    "print(\"Encoded:\", encoded_message)\n",
    "\n",
    "#printing the decoded message\n",
    "decoded_message = caesar_decipher(encoded_message, shift_value)\n",
    "print(\"Decoded:\", decoded_message)\n"
   ]
  }
 ],
 "metadata": {
  "kernelspec": {
   "display_name": "Python 3",
   "language": "python",
   "name": "python3"
  },
  "language_info": {
   "codemirror_mode": {
    "name": "ipython",
    "version": 3
   },
   "file_extension": ".py",
   "mimetype": "text/x-python",
   "name": "python",
   "nbconvert_exporter": "python",
   "pygments_lexer": "ipython3",
   "version": "3.13.5"
  }
 },
 "nbformat": 4,
 "nbformat_minor": 5
}
